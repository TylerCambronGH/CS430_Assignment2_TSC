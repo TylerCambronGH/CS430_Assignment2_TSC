{
  "nbformat": 4,
  "nbformat_minor": 0,
  "metadata": {
    "colab": {
      "provenance": [],
      "collapsed_sections": []
    },
    "kernelspec": {
      "name": "python3",
      "display_name": "Python 3"
    },
    "language_info": {
      "name": "python"
    }
  },
  "cells": [
    {
      "cell_type": "markdown",
      "source": [
        "#Assignment 3"
      ],
      "metadata": {
        "id": "sxkdfke3HqnM"
      }
    },
    {
      "cell_type": "markdown",
      "source": [
        "## Import dataset"
      ],
      "metadata": {
        "id": "cO-lJwlGApFt"
      }
    },
    {
      "cell_type": "code",
      "execution_count": 1,
      "metadata": {
        "id": "jmK_RsTXFMGr"
      },
      "outputs": [],
      "source": [
        "import pandas as pd\n",
        "import numpy as np"
      ]
    },
    {
      "cell_type": "code",
      "source": [
        "dataset = pd.read_csv(\"/content/drive/MyDrive/Colab Notebooks/Assignment3/customer_data.csv\")"
      ],
      "metadata": {
        "id": "VZ6KxGdXHyQi"
      },
      "execution_count": 2,
      "outputs": []
    },
    {
      "cell_type": "code",
      "source": [
        "dataset.head()"
      ],
      "metadata": {
        "colab": {
          "base_uri": "https://localhost:8080/",
          "height": 206
        },
        "id": "y_fKDSGEIB4n",
        "outputId": "b061085b-6cef-4cf3-db4d-43c94f84eabd"
      },
      "execution_count": 3,
      "outputs": [
        {
          "output_type": "execute_result",
          "data": {
            "text/plain": [
              "   label        id  fea_1   fea_2  fea_3     fea_4  fea_5  fea_6  fea_7  \\\n",
              "0      1  54982665      5  1245.5      3   77000.0      2     15      5   \n",
              "1      0  59004779      4  1277.0      1  113000.0      2      8     -1   \n",
              "2      0  58990862      7  1298.0      1  110000.0      2     11     -1   \n",
              "3      1  58995168      7  1335.5      1  151000.0      2     11      5   \n",
              "4      0  54987320      7     NaN      2   59000.0      2     11      5   \n",
              "\n",
              "   fea_8  fea_9  fea_10      fea_11  \n",
              "0    109      5  151300  244.948974  \n",
              "1    100      3  341759  207.173840  \n",
              "2    101      5   72001    1.000000  \n",
              "3    110      3   60084    1.000000  \n",
              "4    108      4  450081  197.403141  "
            ],
            "text/html": [
              "\n",
              "  <div id=\"df-cd8e4b3e-9ee4-476c-88b1-00de48490543\">\n",
              "    <div class=\"colab-df-container\">\n",
              "      <div>\n",
              "<style scoped>\n",
              "    .dataframe tbody tr th:only-of-type {\n",
              "        vertical-align: middle;\n",
              "    }\n",
              "\n",
              "    .dataframe tbody tr th {\n",
              "        vertical-align: top;\n",
              "    }\n",
              "\n",
              "    .dataframe thead th {\n",
              "        text-align: right;\n",
              "    }\n",
              "</style>\n",
              "<table border=\"1\" class=\"dataframe\">\n",
              "  <thead>\n",
              "    <tr style=\"text-align: right;\">\n",
              "      <th></th>\n",
              "      <th>label</th>\n",
              "      <th>id</th>\n",
              "      <th>fea_1</th>\n",
              "      <th>fea_2</th>\n",
              "      <th>fea_3</th>\n",
              "      <th>fea_4</th>\n",
              "      <th>fea_5</th>\n",
              "      <th>fea_6</th>\n",
              "      <th>fea_7</th>\n",
              "      <th>fea_8</th>\n",
              "      <th>fea_9</th>\n",
              "      <th>fea_10</th>\n",
              "      <th>fea_11</th>\n",
              "    </tr>\n",
              "  </thead>\n",
              "  <tbody>\n",
              "    <tr>\n",
              "      <th>0</th>\n",
              "      <td>1</td>\n",
              "      <td>54982665</td>\n",
              "      <td>5</td>\n",
              "      <td>1245.5</td>\n",
              "      <td>3</td>\n",
              "      <td>77000.0</td>\n",
              "      <td>2</td>\n",
              "      <td>15</td>\n",
              "      <td>5</td>\n",
              "      <td>109</td>\n",
              "      <td>5</td>\n",
              "      <td>151300</td>\n",
              "      <td>244.948974</td>\n",
              "    </tr>\n",
              "    <tr>\n",
              "      <th>1</th>\n",
              "      <td>0</td>\n",
              "      <td>59004779</td>\n",
              "      <td>4</td>\n",
              "      <td>1277.0</td>\n",
              "      <td>1</td>\n",
              "      <td>113000.0</td>\n",
              "      <td>2</td>\n",
              "      <td>8</td>\n",
              "      <td>-1</td>\n",
              "      <td>100</td>\n",
              "      <td>3</td>\n",
              "      <td>341759</td>\n",
              "      <td>207.173840</td>\n",
              "    </tr>\n",
              "    <tr>\n",
              "      <th>2</th>\n",
              "      <td>0</td>\n",
              "      <td>58990862</td>\n",
              "      <td>7</td>\n",
              "      <td>1298.0</td>\n",
              "      <td>1</td>\n",
              "      <td>110000.0</td>\n",
              "      <td>2</td>\n",
              "      <td>11</td>\n",
              "      <td>-1</td>\n",
              "      <td>101</td>\n",
              "      <td>5</td>\n",
              "      <td>72001</td>\n",
              "      <td>1.000000</td>\n",
              "    </tr>\n",
              "    <tr>\n",
              "      <th>3</th>\n",
              "      <td>1</td>\n",
              "      <td>58995168</td>\n",
              "      <td>7</td>\n",
              "      <td>1335.5</td>\n",
              "      <td>1</td>\n",
              "      <td>151000.0</td>\n",
              "      <td>2</td>\n",
              "      <td>11</td>\n",
              "      <td>5</td>\n",
              "      <td>110</td>\n",
              "      <td>3</td>\n",
              "      <td>60084</td>\n",
              "      <td>1.000000</td>\n",
              "    </tr>\n",
              "    <tr>\n",
              "      <th>4</th>\n",
              "      <td>0</td>\n",
              "      <td>54987320</td>\n",
              "      <td>7</td>\n",
              "      <td>NaN</td>\n",
              "      <td>2</td>\n",
              "      <td>59000.0</td>\n",
              "      <td>2</td>\n",
              "      <td>11</td>\n",
              "      <td>5</td>\n",
              "      <td>108</td>\n",
              "      <td>4</td>\n",
              "      <td>450081</td>\n",
              "      <td>197.403141</td>\n",
              "    </tr>\n",
              "  </tbody>\n",
              "</table>\n",
              "</div>\n",
              "      <button class=\"colab-df-convert\" onclick=\"convertToInteractive('df-cd8e4b3e-9ee4-476c-88b1-00de48490543')\"\n",
              "              title=\"Convert this dataframe to an interactive table.\"\n",
              "              style=\"display:none;\">\n",
              "        \n",
              "  <svg xmlns=\"http://www.w3.org/2000/svg\" height=\"24px\"viewBox=\"0 0 24 24\"\n",
              "       width=\"24px\">\n",
              "    <path d=\"M0 0h24v24H0V0z\" fill=\"none\"/>\n",
              "    <path d=\"M18.56 5.44l.94 2.06.94-2.06 2.06-.94-2.06-.94-.94-2.06-.94 2.06-2.06.94zm-11 1L8.5 8.5l.94-2.06 2.06-.94-2.06-.94L8.5 2.5l-.94 2.06-2.06.94zm10 10l.94 2.06.94-2.06 2.06-.94-2.06-.94-.94-2.06-.94 2.06-2.06.94z\"/><path d=\"M17.41 7.96l-1.37-1.37c-.4-.4-.92-.59-1.43-.59-.52 0-1.04.2-1.43.59L10.3 9.45l-7.72 7.72c-.78.78-.78 2.05 0 2.83L4 21.41c.39.39.9.59 1.41.59.51 0 1.02-.2 1.41-.59l7.78-7.78 2.81-2.81c.8-.78.8-2.07 0-2.86zM5.41 20L4 18.59l7.72-7.72 1.47 1.35L5.41 20z\"/>\n",
              "  </svg>\n",
              "      </button>\n",
              "      \n",
              "  <style>\n",
              "    .colab-df-container {\n",
              "      display:flex;\n",
              "      flex-wrap:wrap;\n",
              "      gap: 12px;\n",
              "    }\n",
              "\n",
              "    .colab-df-convert {\n",
              "      background-color: #E8F0FE;\n",
              "      border: none;\n",
              "      border-radius: 50%;\n",
              "      cursor: pointer;\n",
              "      display: none;\n",
              "      fill: #1967D2;\n",
              "      height: 32px;\n",
              "      padding: 0 0 0 0;\n",
              "      width: 32px;\n",
              "    }\n",
              "\n",
              "    .colab-df-convert:hover {\n",
              "      background-color: #E2EBFA;\n",
              "      box-shadow: 0px 1px 2px rgba(60, 64, 67, 0.3), 0px 1px 3px 1px rgba(60, 64, 67, 0.15);\n",
              "      fill: #174EA6;\n",
              "    }\n",
              "\n",
              "    [theme=dark] .colab-df-convert {\n",
              "      background-color: #3B4455;\n",
              "      fill: #D2E3FC;\n",
              "    }\n",
              "\n",
              "    [theme=dark] .colab-df-convert:hover {\n",
              "      background-color: #434B5C;\n",
              "      box-shadow: 0px 1px 3px 1px rgba(0, 0, 0, 0.15);\n",
              "      filter: drop-shadow(0px 1px 2px rgba(0, 0, 0, 0.3));\n",
              "      fill: #FFFFFF;\n",
              "    }\n",
              "  </style>\n",
              "\n",
              "      <script>\n",
              "        const buttonEl =\n",
              "          document.querySelector('#df-cd8e4b3e-9ee4-476c-88b1-00de48490543 button.colab-df-convert');\n",
              "        buttonEl.style.display =\n",
              "          google.colab.kernel.accessAllowed ? 'block' : 'none';\n",
              "\n",
              "        async function convertToInteractive(key) {\n",
              "          const element = document.querySelector('#df-cd8e4b3e-9ee4-476c-88b1-00de48490543');\n",
              "          const dataTable =\n",
              "            await google.colab.kernel.invokeFunction('convertToInteractive',\n",
              "                                                     [key], {});\n",
              "          if (!dataTable) return;\n",
              "\n",
              "          const docLinkHtml = 'Like what you see? Visit the ' +\n",
              "            '<a target=\"_blank\" href=https://colab.research.google.com/notebooks/data_table.ipynb>data table notebook</a>'\n",
              "            + ' to learn more about interactive tables.';\n",
              "          element.innerHTML = '';\n",
              "          dataTable['output_type'] = 'display_data';\n",
              "          await google.colab.output.renderOutput(dataTable, element);\n",
              "          const docLink = document.createElement('div');\n",
              "          docLink.innerHTML = docLinkHtml;\n",
              "          element.appendChild(docLink);\n",
              "        }\n",
              "      </script>\n",
              "    </div>\n",
              "  </div>\n",
              "  "
            ]
          },
          "metadata": {},
          "execution_count": 3
        }
      ]
    },
    {
      "cell_type": "code",
      "source": [
        "dataset.isnull().sum()"
      ],
      "metadata": {
        "colab": {
          "base_uri": "https://localhost:8080/"
        },
        "id": "UKHwRqApID4r",
        "outputId": "931040d4-15a4-46da-b9a3-219a88a895d7"
      },
      "execution_count": 4,
      "outputs": [
        {
          "output_type": "execute_result",
          "data": {
            "text/plain": [
              "label       0\n",
              "id          0\n",
              "fea_1       0\n",
              "fea_2     149\n",
              "fea_3       0\n",
              "fea_4       0\n",
              "fea_5       0\n",
              "fea_6       0\n",
              "fea_7       0\n",
              "fea_8       0\n",
              "fea_9       0\n",
              "fea_10      0\n",
              "fea_11      0\n",
              "dtype: int64"
            ]
          },
          "metadata": {},
          "execution_count": 4
        }
      ]
    },
    {
      "cell_type": "code",
      "source": [
        "import seaborn as sns"
      ],
      "metadata": {
        "id": "i-5llr03Jb5G"
      },
      "execution_count": 5,
      "outputs": []
    },
    {
      "cell_type": "code",
      "source": [
        "sns.distplot(dataset['fea_2'])"
      ],
      "metadata": {
        "colab": {
          "base_uri": "https://localhost:8080/",
          "height": 352
        },
        "id": "757Ra9NdJgyT",
        "outputId": "27ff29da-a5d2-4a0a-96e2-b921955ce812"
      },
      "execution_count": 6,
      "outputs": [
        {
          "output_type": "stream",
          "name": "stderr",
          "text": [
            "/usr/local/lib/python3.7/dist-packages/seaborn/distributions.py:2619: FutureWarning: `distplot` is a deprecated function and will be removed in a future version. Please adapt your code to use either `displot` (a figure-level function with similar flexibility) or `histplot` (an axes-level function for histograms).\n",
            "  warnings.warn(msg, FutureWarning)\n"
          ]
        },
        {
          "output_type": "execute_result",
          "data": {
            "text/plain": [
              "<matplotlib.axes._subplots.AxesSubplot at 0x7f9dedcc6390>"
            ]
          },
          "metadata": {},
          "execution_count": 6
        },
        {
          "output_type": "display_data",
          "data": {
            "text/plain": [
              "<Figure size 432x288 with 1 Axes>"
            ],
            "image/png": "[encoded data removed]"
          },
          "metadata": {
            "needs_background": "light"
          }
        }
      ]
    },
    {
      "cell_type": "markdown",
      "source": [
        "##Impute"
      ],
      "metadata": {
        "id": "RSGQWUNsKZKV"
      }
    },
    {
      "cell_type": "code",
      "source": [
        "dataset['fea_2'] = dataset['fea_2'].fillna(dataset['fea_2'].mean())"
      ],
      "metadata": {
        "id": "HCHY03HaKR6R"
      },
      "execution_count": 7,
      "outputs": []
    },
    {
      "cell_type": "code",
      "source": [
        "dataset.head()"
      ],
      "metadata": {
        "colab": {
          "base_uri": "https://localhost:8080/",
          "height": 0
        },
        "id": "smzoKBQAKku0",
        "outputId": "f9333bce-7796-4baf-eff3-b67810165a8d"
      },
      "execution_count": 8,
      "outputs": [
        {
          "output_type": "execute_result",
          "data": {
            "text/plain": [
              "   label        id  fea_1        fea_2  fea_3     fea_4  fea_5  fea_6  fea_7  \\\n",
              "0      1  54982665      5  1245.500000      3   77000.0      2     15      5   \n",
              "1      0  59004779      4  1277.000000      1  113000.0      2      8     -1   \n",
              "2      0  58990862      7  1298.000000      1  110000.0      2     11     -1   \n",
              "3      1  58995168      7  1335.500000      1  151000.0      2     11      5   \n",
              "4      0  54987320      7  1283.911373      2   59000.0      2     11      5   \n",
              "\n",
              "   fea_8  fea_9  fea_10      fea_11  \n",
              "0    109      5  151300  244.948974  \n",
              "1    100      3  341759  207.173840  \n",
              "2    101      5   72001    1.000000  \n",
              "3    110      3   60084    1.000000  \n",
              "4    108      4  450081  197.403141  "
            ],
            "text/html": [
              "\n",
              "  <div id=\"df-d8dbe480-493d-4837-b32c-aa9abe27ac46\">\n",
              "    <div class=\"colab-df-container\">\n",
              "      <div>\n",
              "<style scoped>\n",
              "    .dataframe tbody tr th:only-of-type {\n",
              "        vertical-align: middle;\n",
              "    }\n",
              "\n",
              "    .dataframe tbody tr th {\n",
              "        vertical-align: top;\n",
              "    }\n",
              "\n",
              "    .dataframe thead th {\n",
              "        text-align: right;\n",
              "    }\n",
              "</style>\n",
              "<table border=\"1\" class=\"dataframe\">\n",
              "  <thead>\n",
              "    <tr style=\"text-align: right;\">\n",
              "      <th></th>\n",
              "      <th>label</th>\n",
              "      <th>id</th>\n",
              "      <th>fea_1</th>\n",
              "      <th>fea_2</th>\n",
              "      <th>fea_3</th>\n",
              "      <th>fea_4</th>\n",
              "      <th>fea_5</th>\n",
              "      <th>fea_6</th>\n",
              "      <th>fea_7</th>\n",
              "      <th>fea_8</th>\n",
              "      <th>fea_9</th>\n",
              "      <th>fea_10</th>\n",
              "      <th>fea_11</th>\n",
              "    </tr>\n",
              "  </thead>\n",
              "  <tbody>\n",
              "    <tr>\n",
              "      <th>0</th>\n",
              "      <td>1</td>\n",
              "      <td>54982665</td>\n",
              "      <td>5</td>\n",
              "      <td>1245.500000</td>\n",
              "      <td>3</td>\n",
              "      <td>77000.0</td>\n",
              "      <td>2</td>\n",
              "      <td>15</td>\n",
              "      <td>5</td>\n",
              "      <td>109</td>\n",
              "      <td>5</td>\n",
              "      <td>151300</td>\n",
              "      <td>244.948974</td>\n",
              "    </tr>\n",
              "    <tr>\n",
              "      <th>1</th>\n",
              "      <td>0</td>\n",
              "      <td>59004779</td>\n",
              "      <td>4</td>\n",
              "      <td>1277.000000</td>\n",
              "      <td>1</td>\n",
              "      <td>113000.0</td>\n",
              "      <td>2</td>\n",
              "      <td>8</td>\n",
              "      <td>-1</td>\n",
              "      <td>100</td>\n",
              "      <td>3</td>\n",
              "      <td>341759</td>\n",
              "      <td>207.173840</td>\n",
              "    </tr>\n",
              "    <tr>\n",
              "      <th>2</th>\n",
              "      <td>0</td>\n",
              "      <td>58990862</td>\n",
              "      <td>7</td>\n",
              "      <td>1298.000000</td>\n",
              "      <td>1</td>\n",
              "      <td>110000.0</td>\n",
              "      <td>2</td>\n",
              "      <td>11</td>\n",
              "      <td>-1</td>\n",
              "      <td>101</td>\n",
              "      <td>5</td>\n",
              "      <td>72001</td>\n",
              "      <td>1.000000</td>\n",
              "    </tr>\n",
              "    <tr>\n",
              "      <th>3</th>\n",
              "      <td>1</td>\n",
              "      <td>58995168</td>\n",
              "      <td>7</td>\n",
              "      <td>1335.500000</td>\n",
              "      <td>1</td>\n",
              "      <td>151000.0</td>\n",
              "      <td>2</td>\n",
              "      <td>11</td>\n",
              "      <td>5</td>\n",
              "      <td>110</td>\n",
              "      <td>3</td>\n",
              "      <td>60084</td>\n",
              "      <td>1.000000</td>\n",
              "    </tr>\n",
              "    <tr>\n",
              "      <th>4</th>\n",
              "      <td>0</td>\n",
              "      <td>54987320</td>\n",
              "      <td>7</td>\n",
              "      <td>1283.911373</td>\n",
              "      <td>2</td>\n",
              "      <td>59000.0</td>\n",
              "      <td>2</td>\n",
              "      <td>11</td>\n",
              "      <td>5</td>\n",
              "      <td>108</td>\n",
              "      <td>4</td>\n",
              "      <td>450081</td>\n",
              "      <td>197.403141</td>\n",
              "    </tr>\n",
              "  </tbody>\n",
              "</table>\n",
              "</div>\n",
              "      <button class=\"colab-df-convert\" onclick=\"convertToInteractive('df-d8dbe480-493d-4837-b32c-aa9abe27ac46')\"\n",
              "              title=\"Convert this dataframe to an interactive table.\"\n",
              "              style=\"display:none;\">\n",
              "        \n",
              "  <svg xmlns=\"http://www.w3.org/2000/svg\" height=\"24px\"viewBox=\"0 0 24 24\"\n",
              "       width=\"24px\">\n",
              "    <path d=\"M0 0h24v24H0V0z\" fill=\"none\"/>\n",
              "    <path d=\"M18.56 5.44l.94 2.06.94-2.06 2.06-.94-2.06-.94-.94-2.06-.94 2.06-2.06.94zm-11 1L8.5 8.5l.94-2.06 2.06-.94-2.06-.94L8.5 2.5l-.94 2.06-2.06.94zm10 10l.94 2.06.94-2.06 2.06-.94-2.06-.94-.94-2.06-.94 2.06-2.06.94z\"/><path d=\"M17.41 7.96l-1.37-1.37c-.4-.4-.92-.59-1.43-.59-.52 0-1.04.2-1.43.59L10.3 9.45l-7.72 7.72c-.78.78-.78 2.05 0 2.83L4 21.41c.39.39.9.59 1.41.59.51 0 1.02-.2 1.41-.59l7.78-7.78 2.81-2.81c.8-.78.8-2.07 0-2.86zM5.41 20L4 18.59l7.72-7.72 1.47 1.35L5.41 20z\"/>\n",
              "  </svg>\n",
              "      </button>\n",
              "      \n",
              "  <style>\n",
              "    .colab-df-container {\n",
              "      display:flex;\n",
              "      flex-wrap:wrap;\n",
              "      gap: 12px;\n",
              "    }\n",
              "\n",
              "    .colab-df-convert {\n",
              "      background-color: #E8F0FE;\n",
              "      border: none;\n",
              "      border-radius: 50%;\n",
              "      cursor: pointer;\n",
              "      display: none;\n",
              "      fill: #1967D2;\n",
              "      height: 32px;\n",
              "      padding: 0 0 0 0;\n",
              "      width: 32px;\n",
              "    }\n",
              "\n",
              "    .colab-df-convert:hover {\n",
              "      background-color: #E2EBFA;\n",
              "      box-shadow: 0px 1px 2px rgba(60, 64, 67, 0.3), 0px 1px 3px 1px rgba(60, 64, 67, 0.15);\n",
              "      fill: #174EA6;\n",
              "    }\n",
              "\n",
              "    [theme=dark] .colab-df-convert {\n",
              "      background-color: #3B4455;\n",
              "      fill: #D2E3FC;\n",
              "    }\n",
              "\n",
              "    [theme=dark] .colab-df-convert:hover {\n",
              "      background-color: #434B5C;\n",
              "      box-shadow: 0px 1px 3px 1px rgba(0, 0, 0, 0.15);\n",
              "      filter: drop-shadow(0px 1px 2px rgba(0, 0, 0, 0.3));\n",
              "      fill: #FFFFFF;\n",
              "    }\n",
              "  </style>\n",
              "\n",
              "      <script>\n",
              "        const buttonEl =\n",
              "          document.querySelector('#df-d8dbe480-493d-4837-b32c-aa9abe27ac46 button.colab-df-convert');\n",
              "        buttonEl.style.display =\n",
              "          google.colab.kernel.accessAllowed ? 'block' : 'none';\n",
              "\n",
              "        async function convertToInteractive(key) {\n",
              "          const element = document.querySelector('#df-d8dbe480-493d-4837-b32c-aa9abe27ac46');\n",
              "          const dataTable =\n",
              "            await google.colab.kernel.invokeFunction('convertToInteractive',\n",
              "                                                     [key], {});\n",
              "          if (!dataTable) return;\n",
              "\n",
              "          const docLinkHtml = 'Like what you see? Visit the ' +\n",
              "            '<a target=\"_blank\" href=https://colab.research.google.com/notebooks/data_table.ipynb>data table notebook</a>'\n",
              "            + ' to learn more about interactive tables.';\n",
              "          element.innerHTML = '';\n",
              "          dataTable['output_type'] = 'display_data';\n",
              "          await google.colab.output.renderOutput(dataTable, element);\n",
              "          const docLink = document.createElement('div');\n",
              "          docLink.innerHTML = docLinkHtml;\n",
              "          element.appendChild(docLink);\n",
              "        }\n",
              "      </script>\n",
              "    </div>\n",
              "  </div>\n",
              "  "
            ]
          },
          "metadata": {},
          "execution_count": 8
        }
      ]
    },
    {
      "cell_type": "code",
      "source": [
        "dataset.isnull().sum()"
      ],
      "metadata": {
        "colab": {
          "base_uri": "https://localhost:8080/"
        },
        "id": "800GFweIK2g1",
        "outputId": "21e5cf27-9b07-46cc-85af-e87c1dddfc3a"
      },
      "execution_count": 9,
      "outputs": [
        {
          "output_type": "execute_result",
          "data": {
            "text/plain": [
              "label     0\n",
              "id        0\n",
              "fea_1     0\n",
              "fea_2     0\n",
              "fea_3     0\n",
              "fea_4     0\n",
              "fea_5     0\n",
              "fea_6     0\n",
              "fea_7     0\n",
              "fea_8     0\n",
              "fea_9     0\n",
              "fea_10    0\n",
              "fea_11    0\n",
              "dtype: int64"
            ]
          },
          "metadata": {},
          "execution_count": 9
        }
      ]
    },
    {
      "cell_type": "markdown",
      "source": [
        "##Score\n"
      ],
      "metadata": {
        "id": "9YdbfKrLLlnl"
      }
    },
    {
      "cell_type": "markdown",
      "source": [
        "###Split dataset"
      ],
      "metadata": {
        "id": "_4_DQr9LNr8I"
      }
    },
    {
      "cell_type": "code",
      "source": [
        "X = dataset.drop(\"label\", axis=1)\n",
        "y = dataset[\"label\"]"
      ],
      "metadata": {
        "id": "b6gcVKYXK5yw"
      },
      "execution_count": 10,
      "outputs": []
    },
    {
      "cell_type": "code",
      "source": [
        "from sklearn.model_selection import train_test_split\n",
        "xTrain, xTest, yTrain, yTest = train_test_split(X, y, train_size=0.2, random_state=0)"
      ],
      "metadata": {
        "id": "wDp0VwLDPSbz"
      },
      "execution_count": 11,
      "outputs": []
    },
    {
      "cell_type": "markdown",
      "source": [
        "###SVC"
      ],
      "metadata": {
        "id": "9fbP0jTHLv4z"
      }
    },
    {
      "cell_type": "code",
      "source": [
        "from sklearn.svm import SVC\n",
        "svc = SVC(kernel=\"rbf\", random_state=0)"
      ],
      "metadata": {
        "id": "U08M8vkhLxAV"
      },
      "execution_count": 12,
      "outputs": []
    },
    {
      "cell_type": "markdown",
      "source": [
        "#### Stratified K Fold"
      ],
      "metadata": {
        "id": "Mp6BpdLKNQ0c"
      }
    },
    {
      "cell_type": "code",
      "source": [
        "from sklearn.model_selection import StratifiedKFold, cross_val_score\n",
        "skFold = StratifiedKFold(n_splits=10)\n",
        "skFoldResult = cross_val_score(svc, X, y, cv=skFold)\n",
        "skFoldScore = np.mean(skFoldResult)"
      ],
      "metadata": {
        "id": "3rJ1YVqZMsow"
      },
      "execution_count": 13,
      "outputs": []
    },
    {
      "cell_type": "markdown",
      "source": [
        "#### Repeated Random Sub-Sampling"
      ],
      "metadata": {
        "id": "KbxBYx5QN9jW"
      }
    },
    {
      "cell_type": "code",
      "source": [
        "from sklearn.model_selection import ShuffleSplit, cross_val_score\n",
        "sSplit = ShuffleSplit(n_splits=10, test_size=0.2)\n",
        "sSplitResult = cross_val_score(svc, X, y, cv=sSplit)\n",
        "sSplitScore = np.mean(sSplitResult)"
      ],
      "metadata": {
        "id": "pA30MuyBOD-v"
      },
      "execution_count": 14,
      "outputs": []
    },
    {
      "cell_type": "markdown",
      "source": [
        "###Logistic Regressor\n"
      ],
      "metadata": {
        "id": "tBz9Ji32OkjU"
      }
    },
    {
      "cell_type": "code",
      "source": [
        "from sklearn.linear_model import LogisticRegression"
      ],
      "metadata": {
        "id": "HpIYvJsJOn--"
      },
      "execution_count": 15,
      "outputs": []
    },
    {
      "cell_type": "markdown",
      "source": [
        "####Randomized Search"
      ],
      "metadata": {
        "id": "OCwRr6SmOe0Z"
      }
    },
    {
      "cell_type": "code",
      "source": [
        "from sklearn.model_selection import RandomizedSearchCV\n",
        "randParameters = {\n",
        "    'solver': ['liblinear'],\n",
        "    'C': [0.1, 1, 10, 100],\n",
        "    'n_jobs': [1,2,3,4,5]\n",
        "}\n",
        "randSearchModel = RandomizedSearchCV(LogisticRegression(), randParameters, verbose=3, n_iter=3)\n",
        "randSearchModel.fit(xTrain, yTrain)"
      ],
      "metadata": {
        "colab": {
          "base_uri": "https://localhost:8080/"
        },
        "id": "X5EOLhouO1Pl",
        "outputId": "986b2c96-c5e9-46ee-e67f-676250ba3baa"
      },
      "execution_count": 16,
      "outputs": [
        {
          "output_type": "stream",
          "name": "stdout",
          "text": [
            "Fitting 5 folds for each of 3 candidates, totalling 15 fits\n",
            "[CV 1/5] END ..C=10, n_jobs=1, solver=liblinear;, score=0.800 total time=   0.0s\n",
            "[CV 2/5] END ..C=10, n_jobs=1, solver=liblinear;, score=0.778 total time=   0.0s\n",
            "[CV 3/5] END ..C=10, n_jobs=1, solver=liblinear;, score=0.778 total time=   0.0s\n",
            "[CV 4/5] END ..C=10, n_jobs=1, solver=liblinear;, score=0.778 total time=   0.0s\n",
            "[CV 5/5] END ..C=10, n_jobs=1, solver=liblinear;, score=0.778 total time=   0.0s\n",
            "[CV 1/5] END ...C=1, n_jobs=1, solver=liblinear;, score=0.800 total time=   0.0s\n",
            "[CV 2/5] END ...C=1, n_jobs=1, solver=liblinear;, score=0.778 total time=   0.0s\n",
            "[CV 3/5] END ...C=1, n_jobs=1, solver=liblinear;, score=0.778 total time=   0.0s\n",
            "[CV 4/5] END ...C=1, n_jobs=1, solver=liblinear;, score=0.778 total time=   0.0s\n",
            "[CV 5/5] END ...C=1, n_jobs=1, solver=liblinear;, score=0.778 total time=   0.0s\n",
            "[CV 1/5] END .C=0.1, n_jobs=2, solver=liblinear;, score=0.800 total time=   0.0s\n",
            "[CV 2/5] END .C=0.1, n_jobs=2, solver=liblinear;, score=0.778 total time=   0.0s\n",
            "[CV 3/5] END .C=0.1, n_jobs=2, solver=liblinear;, score=0.778 total time=   0.0s\n",
            "[CV 4/5] END .C=0.1, n_jobs=2, solver=liblinear;, score=0.778 total time=   0.0s\n",
            "[CV 5/5] END .C=0.1, n_jobs=2, solver=liblinear;, score=0.778 total time=   0.0s\n"
          ]
        },
        {
          "output_type": "stream",
          "name": "stderr",
          "text": [
            "/usr/local/lib/python3.7/dist-packages/sklearn/linear_model/_logistic.py:1526: UserWarning: 'n_jobs' > 1 does not have any effect when 'solver' is set to 'liblinear'. Got 'n_jobs' = 2.\n",
            "  \" = {}.\".format(effective_n_jobs(self.n_jobs))\n",
            "/usr/local/lib/python3.7/dist-packages/sklearn/linear_model/_logistic.py:1526: UserWarning: 'n_jobs' > 1 does not have any effect when 'solver' is set to 'liblinear'. Got 'n_jobs' = 2.\n",
            "  \" = {}.\".format(effective_n_jobs(self.n_jobs))\n",
            "/usr/local/lib/python3.7/dist-packages/sklearn/linear_model/_logistic.py:1526: UserWarning: 'n_jobs' > 1 does not have any effect when 'solver' is set to 'liblinear'. Got 'n_jobs' = 2.\n",
            "  \" = {}.\".format(effective_n_jobs(self.n_jobs))\n",
            "/usr/local/lib/python3.7/dist-packages/sklearn/linear_model/_logistic.py:1526: UserWarning: 'n_jobs' > 1 does not have any effect when 'solver' is set to 'liblinear'. Got 'n_jobs' = 2.\n",
            "  \" = {}.\".format(effective_n_jobs(self.n_jobs))\n",
            "/usr/local/lib/python3.7/dist-packages/sklearn/linear_model/_logistic.py:1526: UserWarning: 'n_jobs' > 1 does not have any effect when 'solver' is set to 'liblinear'. Got 'n_jobs' = 2.\n",
            "  \" = {}.\".format(effective_n_jobs(self.n_jobs))\n"
          ]
        },
        {
          "output_type": "execute_result",
          "data": {
            "text/plain": [
              "RandomizedSearchCV(estimator=LogisticRegression(), n_iter=3,\n",
              "                   param_distributions={'C': [0.1, 1, 10, 100],\n",
              "                                        'n_jobs': [1, 2, 3, 4, 5],\n",
              "                                        'solver': ['liblinear']},\n",
              "                   verbose=3)"
            ]
          },
          "metadata": {},
          "execution_count": 16
        }
      ]
    },
    {
      "cell_type": "markdown",
      "source": [
        "#### Grid Search"
      ],
      "metadata": {
        "id": "R70WhSbBX6yR"
      }
    },
    {
      "cell_type": "code",
      "source": [
        "from sklearn.model_selection import GridSearchCV\n",
        "gsParameters = {\n",
        "    'solver': ['liblinear'],\n",
        "    'C': [0.1, 1, 10, 100],\n",
        "    'n_jobs': [1,2,3,4,5]\n",
        "}\n",
        "gridModel = GridSearchCV(LogisticRegression(), gsParameters, verbose=3, cv=5)\n",
        "gridModel.fit(xTrain, yTrain)"
      ],
      "metadata": {
        "id": "3KgK7YAKX8v5",
        "colab": {
          "base_uri": "https://localhost:8080/"
        },
        "outputId": "c6561457-be86-47b5-d6c3-6565252cb6c6"
      },
      "execution_count": 17,
      "outputs": [
        {
          "output_type": "stream",
          "name": "stdout",
          "text": [
            "Fitting 5 folds for each of 20 candidates, totalling 100 fits\n",
            "[CV 1/5] END .C=0.1, n_jobs=1, solver=liblinear;, score=0.800 total time=   0.0s\n",
            "[CV 2/5] END .C=0.1, n_jobs=1, solver=liblinear;, score=0.778 total time=   0.0s\n",
            "[CV 3/5] END .C=0.1, n_jobs=1, solver=liblinear;, score=0.778 total time=   0.0s\n",
            "[CV 4/5] END .C=0.1, n_jobs=1, solver=liblinear;, score=0.778 total time=   0.0s\n",
            "[CV 5/5] END .C=0.1, n_jobs=1, solver=liblinear;, score=0.778 total time=   0.0s\n",
            "[CV 1/5] END .C=0.1, n_jobs=2, solver=liblinear;, score=0.800 total time=   0.0s\n",
            "[CV 2/5] END .C=0.1, n_jobs=2, solver=liblinear;, score=0.778 total time=   0.0s\n",
            "[CV 3/5] END .C=0.1, n_jobs=2, solver=liblinear;, score=0.778 total time=   0.0s\n",
            "[CV 4/5] END .C=0.1, n_jobs=2, solver=liblinear;, score=0.778 total time=   0.0s\n",
            "[CV 5/5] END .C=0.1, n_jobs=2, solver=liblinear;, score=0.778 total time=   0.0s\n",
            "[CV 1/5] END .C=0.1, n_jobs=3, solver=liblinear;, score=0.800 total time=   0.0s\n"
          ]
        },
        {
          "output_type": "stream",
          "name": "stderr",
          "text": [
            "/usr/local/lib/python3.7/dist-packages/sklearn/linear_model/_logistic.py:1526: UserWarning: 'n_jobs' > 1 does not have any effect when 'solver' is set to 'liblinear'. Got 'n_jobs' = 2.\n",
            "  \" = {}.\".format(effective_n_jobs(self.n_jobs))\n",
            "/usr/local/lib/python3.7/dist-packages/sklearn/linear_model/_logistic.py:1526: UserWarning: 'n_jobs' > 1 does not have any effect when 'solver' is set to 'liblinear'. Got 'n_jobs' = 2.\n",
            "  \" = {}.\".format(effective_n_jobs(self.n_jobs))\n",
            "/usr/local/lib/python3.7/dist-packages/sklearn/linear_model/_logistic.py:1526: UserWarning: 'n_jobs' > 1 does not have any effect when 'solver' is set to 'liblinear'. Got 'n_jobs' = 2.\n",
            "  \" = {}.\".format(effective_n_jobs(self.n_jobs))\n",
            "/usr/local/lib/python3.7/dist-packages/sklearn/linear_model/_logistic.py:1526: UserWarning: 'n_jobs' > 1 does not have any effect when 'solver' is set to 'liblinear'. Got 'n_jobs' = 2.\n",
            "  \" = {}.\".format(effective_n_jobs(self.n_jobs))\n",
            "/usr/local/lib/python3.7/dist-packages/sklearn/linear_model/_logistic.py:1526: UserWarning: 'n_jobs' > 1 does not have any effect when 'solver' is set to 'liblinear'. Got 'n_jobs' = 2.\n",
            "  \" = {}.\".format(effective_n_jobs(self.n_jobs))\n",
            "/usr/local/lib/python3.7/dist-packages/sklearn/linear_model/_logistic.py:1526: UserWarning: 'n_jobs' > 1 does not have any effect when 'solver' is set to 'liblinear'. Got 'n_jobs' = 3.\n",
            "  \" = {}.\".format(effective_n_jobs(self.n_jobs))\n",
            "/usr/local/lib/python3.7/dist-packages/sklearn/linear_model/_logistic.py:1526: UserWarning: 'n_jobs' > 1 does not have any effect when 'solver' is set to 'liblinear'. Got 'n_jobs' = 3.\n",
            "  \" = {}.\".format(effective_n_jobs(self.n_jobs))\n",
            "/usr/local/lib/python3.7/dist-packages/sklearn/linear_model/_logistic.py:1526: UserWarning: 'n_jobs' > 1 does not have any effect when 'solver' is set to 'liblinear'. Got 'n_jobs' = 3.\n",
            "  \" = {}.\".format(effective_n_jobs(self.n_jobs))\n",
            "/usr/local/lib/python3.7/dist-packages/sklearn/linear_model/_logistic.py:1526: UserWarning: 'n_jobs' > 1 does not have any effect when 'solver' is set to 'liblinear'. Got 'n_jobs' = 3.\n",
            "  \" = {}.\".format(effective_n_jobs(self.n_jobs))\n",
            "/usr/local/lib/python3.7/dist-packages/sklearn/linear_model/_logistic.py:1526: UserWarning: 'n_jobs' > 1 does not have any effect when 'solver' is set to 'liblinear'. Got 'n_jobs' = 3.\n",
            "  \" = {}.\".format(effective_n_jobs(self.n_jobs))\n",
            "/usr/local/lib/python3.7/dist-packages/sklearn/linear_model/_logistic.py:1526: UserWarning: 'n_jobs' > 1 does not have any effect when 'solver' is set to 'liblinear'. Got 'n_jobs' = 4.\n",
            "  \" = {}.\".format(effective_n_jobs(self.n_jobs))\n",
            "/usr/local/lib/python3.7/dist-packages/sklearn/linear_model/_logistic.py:1526: UserWarning: 'n_jobs' > 1 does not have any effect when 'solver' is set to 'liblinear'. Got 'n_jobs' = 4.\n",
            "  \" = {}.\".format(effective_n_jobs(self.n_jobs))\n"
          ]
        },
        {
          "output_type": "stream",
          "name": "stdout",
          "text": [
            "[CV 2/5] END .C=0.1, n_jobs=3, solver=liblinear;, score=0.778 total time=   0.0s\n",
            "[CV 3/5] END .C=0.1, n_jobs=3, solver=liblinear;, score=0.778 total time=   0.0s\n",
            "[CV 4/5] END .C=0.1, n_jobs=3, solver=liblinear;, score=0.778 total time=   0.0s\n",
            "[CV 5/5] END .C=0.1, n_jobs=3, solver=liblinear;, score=0.778 total time=   0.0s\n",
            "[CV 1/5] END .C=0.1, n_jobs=4, solver=liblinear;, score=0.800 total time=   0.0s\n",
            "[CV 2/5] END .C=0.1, n_jobs=4, solver=liblinear;, score=0.778 total time=   0.0s\n",
            "[CV 3/5] END .C=0.1, n_jobs=4, solver=liblinear;, score=0.778 total time=   0.0s\n",
            "[CV 4/5] END .C=0.1, n_jobs=4, solver=liblinear;, score=0.778 total time=   0.0s\n",
            "[CV 5/5] END .C=0.1, n_jobs=4, solver=liblinear;, score=0.778 total time=   0.0s\n",
            "[CV 1/5] END .C=0.1, n_jobs=5, solver=liblinear;, score=0.800 total time=   0.0s\n",
            "[CV 2/5] END .C=0.1, n_jobs=5, solver=liblinear;, score=0.778 total time=   0.0s\n",
            "[CV 3/5] END .C=0.1, n_jobs=5, solver=liblinear;, score=0.778 total time=   0.0s\n",
            "[CV 4/5] END .C=0.1, n_jobs=5, solver=liblinear;, score=0.778 total time=   0.0s\n",
            "[CV 5/5] END .C=0.1, n_jobs=5, solver=liblinear;, score=0.778 total time=   0.0s\n",
            "[CV 1/5] END ...C=1, n_jobs=1, solver=liblinear;, score=0.800 total time=   0.0s\n"
          ]
        },
        {
          "output_type": "stream",
          "name": "stderr",
          "text": [
            "/usr/local/lib/python3.7/dist-packages/sklearn/linear_model/_logistic.py:1526: UserWarning: 'n_jobs' > 1 does not have any effect when 'solver' is set to 'liblinear'. Got 'n_jobs' = 4.\n",
            "  \" = {}.\".format(effective_n_jobs(self.n_jobs))\n",
            "/usr/local/lib/python3.7/dist-packages/sklearn/linear_model/_logistic.py:1526: UserWarning: 'n_jobs' > 1 does not have any effect when 'solver' is set to 'liblinear'. Got 'n_jobs' = 4.\n",
            "  \" = {}.\".format(effective_n_jobs(self.n_jobs))\n",
            "/usr/local/lib/python3.7/dist-packages/sklearn/linear_model/_logistic.py:1526: UserWarning: 'n_jobs' > 1 does not have any effect when 'solver' is set to 'liblinear'. Got 'n_jobs' = 4.\n",
            "  \" = {}.\".format(effective_n_jobs(self.n_jobs))\n",
            "/usr/local/lib/python3.7/dist-packages/sklearn/linear_model/_logistic.py:1526: UserWarning: 'n_jobs' > 1 does not have any effect when 'solver' is set to 'liblinear'. Got 'n_jobs' = 5.\n",
            "  \" = {}.\".format(effective_n_jobs(self.n_jobs))\n",
            "/usr/local/lib/python3.7/dist-packages/sklearn/linear_model/_logistic.py:1526: UserWarning: 'n_jobs' > 1 does not have any effect when 'solver' is set to 'liblinear'. Got 'n_jobs' = 5.\n",
            "  \" = {}.\".format(effective_n_jobs(self.n_jobs))\n",
            "/usr/local/lib/python3.7/dist-packages/sklearn/linear_model/_logistic.py:1526: UserWarning: 'n_jobs' > 1 does not have any effect when 'solver' is set to 'liblinear'. Got 'n_jobs' = 5.\n",
            "  \" = {}.\".format(effective_n_jobs(self.n_jobs))\n",
            "/usr/local/lib/python3.7/dist-packages/sklearn/linear_model/_logistic.py:1526: UserWarning: 'n_jobs' > 1 does not have any effect when 'solver' is set to 'liblinear'. Got 'n_jobs' = 5.\n",
            "  \" = {}.\".format(effective_n_jobs(self.n_jobs))\n",
            "/usr/local/lib/python3.7/dist-packages/sklearn/linear_model/_logistic.py:1526: UserWarning: 'n_jobs' > 1 does not have any effect when 'solver' is set to 'liblinear'. Got 'n_jobs' = 5.\n",
            "  \" = {}.\".format(effective_n_jobs(self.n_jobs))\n",
            "/usr/local/lib/python3.7/dist-packages/sklearn/linear_model/_logistic.py:1526: UserWarning: 'n_jobs' > 1 does not have any effect when 'solver' is set to 'liblinear'. Got 'n_jobs' = 2.\n",
            "  \" = {}.\".format(effective_n_jobs(self.n_jobs))\n",
            "/usr/local/lib/python3.7/dist-packages/sklearn/linear_model/_logistic.py:1526: UserWarning: 'n_jobs' > 1 does not have any effect when 'solver' is set to 'liblinear'. Got 'n_jobs' = 2.\n",
            "  \" = {}.\".format(effective_n_jobs(self.n_jobs))\n"
          ]
        },
        {
          "output_type": "stream",
          "name": "stdout",
          "text": [
            "[CV 2/5] END ...C=1, n_jobs=1, solver=liblinear;, score=0.778 total time=   0.0s\n",
            "[CV 3/5] END ...C=1, n_jobs=1, solver=liblinear;, score=0.778 total time=   0.0s\n",
            "[CV 4/5] END ...C=1, n_jobs=1, solver=liblinear;, score=0.778 total time=   0.0s\n",
            "[CV 5/5] END ...C=1, n_jobs=1, solver=liblinear;, score=0.778 total time=   0.0s\n",
            "[CV 1/5] END ...C=1, n_jobs=2, solver=liblinear;, score=0.800 total time=   0.0s\n",
            "[CV 2/5] END ...C=1, n_jobs=2, solver=liblinear;, score=0.778 total time=   0.0s\n",
            "[CV 3/5] END ...C=1, n_jobs=2, solver=liblinear;, score=0.778 total time=   0.0s\n",
            "[CV 4/5] END ...C=1, n_jobs=2, solver=liblinear;, score=0.778 total time=   0.0s\n",
            "[CV 5/5] END ...C=1, n_jobs=2, solver=liblinear;, score=0.778 total time=   0.0s\n",
            "[CV 1/5] END ...C=1, n_jobs=3, solver=liblinear;, score=0.800 total time=   0.0s\n",
            "[CV 2/5] END ...C=1, n_jobs=3, solver=liblinear;, score=0.778 total time=   0.0s\n",
            "[CV 3/5] END ...C=1, n_jobs=3, solver=liblinear;, score=0.778 total time=   0.0s\n",
            "[CV 4/5] END ...C=1, n_jobs=3, solver=liblinear;, score=0.778 total time=   0.0s\n",
            "[CV 5/5] END ...C=1, n_jobs=3, solver=liblinear;, score=0.778 total time=   0.0s\n",
            "[CV 1/5] END ...C=1, n_jobs=4, solver=liblinear;, score=0.800 total time=   0.0s\n"
          ]
        },
        {
          "output_type": "stream",
          "name": "stderr",
          "text": [
            "/usr/local/lib/python3.7/dist-packages/sklearn/linear_model/_logistic.py:1526: UserWarning: 'n_jobs' > 1 does not have any effect when 'solver' is set to 'liblinear'. Got 'n_jobs' = 2.\n",
            "  \" = {}.\".format(effective_n_jobs(self.n_jobs))\n",
            "/usr/local/lib/python3.7/dist-packages/sklearn/linear_model/_logistic.py:1526: UserWarning: 'n_jobs' > 1 does not have any effect when 'solver' is set to 'liblinear'. Got 'n_jobs' = 2.\n",
            "  \" = {}.\".format(effective_n_jobs(self.n_jobs))\n",
            "/usr/local/lib/python3.7/dist-packages/sklearn/linear_model/_logistic.py:1526: UserWarning: 'n_jobs' > 1 does not have any effect when 'solver' is set to 'liblinear'. Got 'n_jobs' = 2.\n",
            "  \" = {}.\".format(effective_n_jobs(self.n_jobs))\n",
            "/usr/local/lib/python3.7/dist-packages/sklearn/linear_model/_logistic.py:1526: UserWarning: 'n_jobs' > 1 does not have any effect when 'solver' is set to 'liblinear'. Got 'n_jobs' = 3.\n",
            "  \" = {}.\".format(effective_n_jobs(self.n_jobs))\n",
            "/usr/local/lib/python3.7/dist-packages/sklearn/linear_model/_logistic.py:1526: UserWarning: 'n_jobs' > 1 does not have any effect when 'solver' is set to 'liblinear'. Got 'n_jobs' = 3.\n",
            "  \" = {}.\".format(effective_n_jobs(self.n_jobs))\n",
            "/usr/local/lib/python3.7/dist-packages/sklearn/linear_model/_logistic.py:1526: UserWarning: 'n_jobs' > 1 does not have any effect when 'solver' is set to 'liblinear'. Got 'n_jobs' = 3.\n",
            "  \" = {}.\".format(effective_n_jobs(self.n_jobs))\n",
            "/usr/local/lib/python3.7/dist-packages/sklearn/linear_model/_logistic.py:1526: UserWarning: 'n_jobs' > 1 does not have any effect when 'solver' is set to 'liblinear'. Got 'n_jobs' = 3.\n",
            "  \" = {}.\".format(effective_n_jobs(self.n_jobs))\n",
            "/usr/local/lib/python3.7/dist-packages/sklearn/linear_model/_logistic.py:1526: UserWarning: 'n_jobs' > 1 does not have any effect when 'solver' is set to 'liblinear'. Got 'n_jobs' = 3.\n",
            "  \" = {}.\".format(effective_n_jobs(self.n_jobs))\n",
            "/usr/local/lib/python3.7/dist-packages/sklearn/linear_model/_logistic.py:1526: UserWarning: 'n_jobs' > 1 does not have any effect when 'solver' is set to 'liblinear'. Got 'n_jobs' = 4.\n",
            "  \" = {}.\".format(effective_n_jobs(self.n_jobs))\n",
            "/usr/local/lib/python3.7/dist-packages/sklearn/linear_model/_logistic.py:1526: UserWarning: 'n_jobs' > 1 does not have any effect when 'solver' is set to 'liblinear'. Got 'n_jobs' = 4.\n",
            "  \" = {}.\".format(effective_n_jobs(self.n_jobs))\n",
            "/usr/local/lib/python3.7/dist-packages/sklearn/linear_model/_logistic.py:1526: UserWarning: 'n_jobs' > 1 does not have any effect when 'solver' is set to 'liblinear'. Got 'n_jobs' = 4.\n",
            "  \" = {}.\".format(effective_n_jobs(self.n_jobs))\n",
            "/usr/local/lib/python3.7/dist-packages/sklearn/linear_model/_logistic.py:1526: UserWarning: 'n_jobs' > 1 does not have any effect when 'solver' is set to 'liblinear'. Got 'n_jobs' = 4.\n",
            "  \" = {}.\".format(effective_n_jobs(self.n_jobs))\n",
            "/usr/local/lib/python3.7/dist-packages/sklearn/linear_model/_logistic.py:1526: UserWarning: 'n_jobs' > 1 does not have any effect when 'solver' is set to 'liblinear'. Got 'n_jobs' = 4.\n",
            "  \" = {}.\".format(effective_n_jobs(self.n_jobs))\n",
            "/usr/local/lib/python3.7/dist-packages/sklearn/linear_model/_logistic.py:1526: UserWarning: 'n_jobs' > 1 does not have any effect when 'solver' is set to 'liblinear'. Got 'n_jobs' = 5.\n",
            "  \" = {}.\".format(effective_n_jobs(self.n_jobs))\n",
            "/usr/local/lib/python3.7/dist-packages/sklearn/linear_model/_logistic.py:1526: UserWarning: 'n_jobs' > 1 does not have any effect when 'solver' is set to 'liblinear'. Got 'n_jobs' = 5.\n",
            "  \" = {}.\".format(effective_n_jobs(self.n_jobs))\n",
            "/usr/local/lib/python3.7/dist-packages/sklearn/linear_model/_logistic.py:1526: UserWarning: 'n_jobs' > 1 does not have any effect when 'solver' is set to 'liblinear'. Got 'n_jobs' = 5.\n",
            "  \" = {}.\".format(effective_n_jobs(self.n_jobs))\n",
            "/usr/local/lib/python3.7/dist-packages/sklearn/linear_model/_logistic.py:1526: UserWarning: 'n_jobs' > 1 does not have any effect when 'solver' is set to 'liblinear'. Got 'n_jobs' = 5.\n",
            "  \" = {}.\".format(effective_n_jobs(self.n_jobs))\n"
          ]
        },
        {
          "output_type": "stream",
          "name": "stdout",
          "text": [
            "[CV 2/5] END ...C=1, n_jobs=4, solver=liblinear;, score=0.778 total time=   0.0s\n",
            "[CV 3/5] END ...C=1, n_jobs=4, solver=liblinear;, score=0.778 total time=   0.0s\n",
            "[CV 4/5] END ...C=1, n_jobs=4, solver=liblinear;, score=0.778 total time=   0.0s\n",
            "[CV 5/5] END ...C=1, n_jobs=4, solver=liblinear;, score=0.778 total time=   0.0s\n",
            "[CV 1/5] END ...C=1, n_jobs=5, solver=liblinear;, score=0.800 total time=   0.0s\n",
            "[CV 2/5] END ...C=1, n_jobs=5, solver=liblinear;, score=0.778 total time=   0.0s\n",
            "[CV 3/5] END ...C=1, n_jobs=5, solver=liblinear;, score=0.778 total time=   0.0s\n",
            "[CV 4/5] END ...C=1, n_jobs=5, solver=liblinear;, score=0.778 total time=   0.0s\n",
            "[CV 5/5] END ...C=1, n_jobs=5, solver=liblinear;, score=0.778 total time=   0.0s\n",
            "[CV 1/5] END ..C=10, n_jobs=1, solver=liblinear;, score=0.800 total time=   0.0s\n",
            "[CV 2/5] END ..C=10, n_jobs=1, solver=liblinear;, score=0.778 total time=   0.0s\n",
            "[CV 3/5] END ..C=10, n_jobs=1, solver=liblinear;, score=0.778 total time=   0.0s\n",
            "[CV 4/5] END ..C=10, n_jobs=1, solver=liblinear;, score=0.778 total time=   0.0s\n",
            "[CV 5/5] END ..C=10, n_jobs=1, solver=liblinear;, score=0.778 total time=   0.0s\n",
            "[CV 1/5] END ..C=10, n_jobs=2, solver=liblinear;, score=0.800 total time=   0.0s\n",
            "[CV 2/5] END ..C=10, n_jobs=2, solver=liblinear;, score=0.778 total time=   0.0s\n",
            "[CV 3/5] END ..C=10, n_jobs=2, solver=liblinear;, score=0.778 total time=   0.0s\n"
          ]
        },
        {
          "output_type": "stream",
          "name": "stderr",
          "text": [
            "/usr/local/lib/python3.7/dist-packages/sklearn/linear_model/_logistic.py:1526: UserWarning: 'n_jobs' > 1 does not have any effect when 'solver' is set to 'liblinear'. Got 'n_jobs' = 5.\n",
            "  \" = {}.\".format(effective_n_jobs(self.n_jobs))\n",
            "/usr/local/lib/python3.7/dist-packages/sklearn/linear_model/_logistic.py:1526: UserWarning: 'n_jobs' > 1 does not have any effect when 'solver' is set to 'liblinear'. Got 'n_jobs' = 2.\n",
            "  \" = {}.\".format(effective_n_jobs(self.n_jobs))\n",
            "/usr/local/lib/python3.7/dist-packages/sklearn/linear_model/_logistic.py:1526: UserWarning: 'n_jobs' > 1 does not have any effect when 'solver' is set to 'liblinear'. Got 'n_jobs' = 2.\n",
            "  \" = {}.\".format(effective_n_jobs(self.n_jobs))\n",
            "/usr/local/lib/python3.7/dist-packages/sklearn/linear_model/_logistic.py:1526: UserWarning: 'n_jobs' > 1 does not have any effect when 'solver' is set to 'liblinear'. Got 'n_jobs' = 2.\n",
            "  \" = {}.\".format(effective_n_jobs(self.n_jobs))\n",
            "/usr/local/lib/python3.7/dist-packages/sklearn/linear_model/_logistic.py:1526: UserWarning: 'n_jobs' > 1 does not have any effect when 'solver' is set to 'liblinear'. Got 'n_jobs' = 2.\n",
            "  \" = {}.\".format(effective_n_jobs(self.n_jobs))\n",
            "/usr/local/lib/python3.7/dist-packages/sklearn/linear_model/_logistic.py:1526: UserWarning: 'n_jobs' > 1 does not have any effect when 'solver' is set to 'liblinear'. Got 'n_jobs' = 2.\n",
            "  \" = {}.\".format(effective_n_jobs(self.n_jobs))\n",
            "/usr/local/lib/python3.7/dist-packages/sklearn/linear_model/_logistic.py:1526: UserWarning: 'n_jobs' > 1 does not have any effect when 'solver' is set to 'liblinear'. Got 'n_jobs' = 3.\n",
            "  \" = {}.\".format(effective_n_jobs(self.n_jobs))\n",
            "/usr/local/lib/python3.7/dist-packages/sklearn/linear_model/_logistic.py:1526: UserWarning: 'n_jobs' > 1 does not have any effect when 'solver' is set to 'liblinear'. Got 'n_jobs' = 3.\n",
            "  \" = {}.\".format(effective_n_jobs(self.n_jobs))\n",
            "/usr/local/lib/python3.7/dist-packages/sklearn/linear_model/_logistic.py:1526: UserWarning: 'n_jobs' > 1 does not have any effect when 'solver' is set to 'liblinear'. Got 'n_jobs' = 3.\n",
            "  \" = {}.\".format(effective_n_jobs(self.n_jobs))\n"
          ]
        },
        {
          "output_type": "stream",
          "name": "stdout",
          "text": [
            "[CV 4/5] END ..C=10, n_jobs=2, solver=liblinear;, score=0.778 total time=   0.0s\n",
            "[CV 5/5] END ..C=10, n_jobs=2, solver=liblinear;, score=0.778 total time=   0.0s\n",
            "[CV 1/5] END ..C=10, n_jobs=3, solver=liblinear;, score=0.800 total time=   0.0s\n",
            "[CV 2/5] END ..C=10, n_jobs=3, solver=liblinear;, score=0.778 total time=   0.0s\n",
            "[CV 3/5] END ..C=10, n_jobs=3, solver=liblinear;, score=0.778 total time=   0.0s\n",
            "[CV 4/5] END ..C=10, n_jobs=3, solver=liblinear;, score=0.778 total time=   0.0s\n",
            "[CV 5/5] END ..C=10, n_jobs=3, solver=liblinear;, score=0.778 total time=   0.0s\n",
            "[CV 1/5] END ..C=10, n_jobs=4, solver=liblinear;, score=0.800 total time=   0.0s\n",
            "[CV 2/5] END ..C=10, n_jobs=4, solver=liblinear;, score=0.778 total time=   0.0s\n",
            "[CV 3/5] END ..C=10, n_jobs=4, solver=liblinear;, score=0.778 total time=   0.0s\n",
            "[CV 4/5] END ..C=10, n_jobs=4, solver=liblinear;, score=0.778 total time=   0.0s\n",
            "[CV 5/5] END ..C=10, n_jobs=4, solver=liblinear;, score=0.778 total time=   0.0s\n",
            "[CV 1/5] END ..C=10, n_jobs=5, solver=liblinear;, score=0.800 total time=   0.0s\n",
            "[CV 2/5] END ..C=10, n_jobs=5, solver=liblinear;, score=0.778 total time=   0.0s\n"
          ]
        },
        {
          "output_type": "stream",
          "name": "stderr",
          "text": [
            "/usr/local/lib/python3.7/dist-packages/sklearn/linear_model/_logistic.py:1526: UserWarning: 'n_jobs' > 1 does not have any effect when 'solver' is set to 'liblinear'. Got 'n_jobs' = 3.\n",
            "  \" = {}.\".format(effective_n_jobs(self.n_jobs))\n",
            "/usr/local/lib/python3.7/dist-packages/sklearn/linear_model/_logistic.py:1526: UserWarning: 'n_jobs' > 1 does not have any effect when 'solver' is set to 'liblinear'. Got 'n_jobs' = 3.\n",
            "  \" = {}.\".format(effective_n_jobs(self.n_jobs))\n",
            "/usr/local/lib/python3.7/dist-packages/sklearn/linear_model/_logistic.py:1526: UserWarning: 'n_jobs' > 1 does not have any effect when 'solver' is set to 'liblinear'. Got 'n_jobs' = 4.\n",
            "  \" = {}.\".format(effective_n_jobs(self.n_jobs))\n",
            "/usr/local/lib/python3.7/dist-packages/sklearn/linear_model/_logistic.py:1526: UserWarning: 'n_jobs' > 1 does not have any effect when 'solver' is set to 'liblinear'. Got 'n_jobs' = 4.\n",
            "  \" = {}.\".format(effective_n_jobs(self.n_jobs))\n",
            "/usr/local/lib/python3.7/dist-packages/sklearn/linear_model/_logistic.py:1526: UserWarning: 'n_jobs' > 1 does not have any effect when 'solver' is set to 'liblinear'. Got 'n_jobs' = 4.\n",
            "  \" = {}.\".format(effective_n_jobs(self.n_jobs))\n",
            "/usr/local/lib/python3.7/dist-packages/sklearn/linear_model/_logistic.py:1526: UserWarning: 'n_jobs' > 1 does not have any effect when 'solver' is set to 'liblinear'. Got 'n_jobs' = 4.\n",
            "  \" = {}.\".format(effective_n_jobs(self.n_jobs))\n",
            "/usr/local/lib/python3.7/dist-packages/sklearn/linear_model/_logistic.py:1526: UserWarning: 'n_jobs' > 1 does not have any effect when 'solver' is set to 'liblinear'. Got 'n_jobs' = 4.\n",
            "  \" = {}.\".format(effective_n_jobs(self.n_jobs))\n",
            "/usr/local/lib/python3.7/dist-packages/sklearn/linear_model/_logistic.py:1526: UserWarning: 'n_jobs' > 1 does not have any effect when 'solver' is set to 'liblinear'. Got 'n_jobs' = 5.\n",
            "  \" = {}.\".format(effective_n_jobs(self.n_jobs))\n",
            "/usr/local/lib/python3.7/dist-packages/sklearn/linear_model/_logistic.py:1526: UserWarning: 'n_jobs' > 1 does not have any effect when 'solver' is set to 'liblinear'. Got 'n_jobs' = 5.\n",
            "  \" = {}.\".format(effective_n_jobs(self.n_jobs))\n",
            "/usr/local/lib/python3.7/dist-packages/sklearn/linear_model/_logistic.py:1526: UserWarning: 'n_jobs' > 1 does not have any effect when 'solver' is set to 'liblinear'. Got 'n_jobs' = 5.\n",
            "  \" = {}.\".format(effective_n_jobs(self.n_jobs))\n",
            "/usr/local/lib/python3.7/dist-packages/sklearn/linear_model/_logistic.py:1526: UserWarning: 'n_jobs' > 1 does not have any effect when 'solver' is set to 'liblinear'. Got 'n_jobs' = 5.\n",
            "  \" = {}.\".format(effective_n_jobs(self.n_jobs))\n",
            "/usr/local/lib/python3.7/dist-packages/sklearn/linear_model/_logistic.py:1526: UserWarning: 'n_jobs' > 1 does not have any effect when 'solver' is set to 'liblinear'. Got 'n_jobs' = 5.\n",
            "  \" = {}.\".format(effective_n_jobs(self.n_jobs))\n"
          ]
        },
        {
          "output_type": "stream",
          "name": "stdout",
          "text": [
            "[CV 3/5] END ..C=10, n_jobs=5, solver=liblinear;, score=0.778 total time=   0.0s\n",
            "[CV 4/5] END ..C=10, n_jobs=5, solver=liblinear;, score=0.778 total time=   0.0s\n",
            "[CV 5/5] END ..C=10, n_jobs=5, solver=liblinear;, score=0.778 total time=   0.0s\n",
            "[CV 1/5] END .C=100, n_jobs=1, solver=liblinear;, score=0.800 total time=   0.0s\n",
            "[CV 2/5] END .C=100, n_jobs=1, solver=liblinear;, score=0.778 total time=   0.0s\n",
            "[CV 3/5] END .C=100, n_jobs=1, solver=liblinear;, score=0.778 total time=   0.0s\n",
            "[CV 4/5] END .C=100, n_jobs=1, solver=liblinear;, score=0.778 total time=   0.0s\n",
            "[CV 5/5] END .C=100, n_jobs=1, solver=liblinear;, score=0.778 total time=   0.0s\n",
            "[CV 1/5] END .C=100, n_jobs=2, solver=liblinear;, score=0.800 total time=   0.0s\n",
            "[CV 2/5] END .C=100, n_jobs=2, solver=liblinear;, score=0.778 total time=   0.0s\n",
            "[CV 3/5] END .C=100, n_jobs=2, solver=liblinear;, score=0.778 total time=   0.0s\n",
            "[CV 4/5] END .C=100, n_jobs=2, solver=liblinear;, score=0.778 total time=   0.0s\n",
            "[CV 5/5] END .C=100, n_jobs=2, solver=liblinear;, score=0.778 total time=   0.0s\n",
            "[CV 1/5] END .C=100, n_jobs=3, solver=liblinear;, score=0.800 total time=   0.0s\n",
            "[CV 2/5] END .C=100, n_jobs=3, solver=liblinear;, score=0.778 total time=   0.0s\n",
            "[CV 3/5] END .C=100, n_jobs=3, solver=liblinear;, score=0.778 total time=   0.0s\n",
            "[CV 4/5] END .C=100, n_jobs=3, solver=liblinear;, score=0.778 total time=   0.0s\n",
            "[CV 5/5] END .C=100, n_jobs=3, solver=liblinear;, score=0.778 total time=   0.0s\n",
            "[CV 1/5] END .C=100, n_jobs=4, solver=liblinear;, score=0.800 total time=   0.0s\n"
          ]
        },
        {
          "output_type": "stream",
          "name": "stderr",
          "text": [
            "/usr/local/lib/python3.7/dist-packages/sklearn/linear_model/_logistic.py:1526: UserWarning: 'n_jobs' > 1 does not have any effect when 'solver' is set to 'liblinear'. Got 'n_jobs' = 2.\n",
            "  \" = {}.\".format(effective_n_jobs(self.n_jobs))\n",
            "/usr/local/lib/python3.7/dist-packages/sklearn/linear_model/_logistic.py:1526: UserWarning: 'n_jobs' > 1 does not have any effect when 'solver' is set to 'liblinear'. Got 'n_jobs' = 2.\n",
            "  \" = {}.\".format(effective_n_jobs(self.n_jobs))\n",
            "/usr/local/lib/python3.7/dist-packages/sklearn/linear_model/_logistic.py:1526: UserWarning: 'n_jobs' > 1 does not have any effect when 'solver' is set to 'liblinear'. Got 'n_jobs' = 2.\n",
            "  \" = {}.\".format(effective_n_jobs(self.n_jobs))\n",
            "/usr/local/lib/python3.7/dist-packages/sklearn/linear_model/_logistic.py:1526: UserWarning: 'n_jobs' > 1 does not have any effect when 'solver' is set to 'liblinear'. Got 'n_jobs' = 2.\n",
            "  \" = {}.\".format(effective_n_jobs(self.n_jobs))\n",
            "/usr/local/lib/python3.7/dist-packages/sklearn/linear_model/_logistic.py:1526: UserWarning: 'n_jobs' > 1 does not have any effect when 'solver' is set to 'liblinear'. Got 'n_jobs' = 2.\n",
            "  \" = {}.\".format(effective_n_jobs(self.n_jobs))\n",
            "/usr/local/lib/python3.7/dist-packages/sklearn/linear_model/_logistic.py:1526: UserWarning: 'n_jobs' > 1 does not have any effect when 'solver' is set to 'liblinear'. Got 'n_jobs' = 3.\n",
            "  \" = {}.\".format(effective_n_jobs(self.n_jobs))\n",
            "/usr/local/lib/python3.7/dist-packages/sklearn/linear_model/_logistic.py:1526: UserWarning: 'n_jobs' > 1 does not have any effect when 'solver' is set to 'liblinear'. Got 'n_jobs' = 3.\n",
            "  \" = {}.\".format(effective_n_jobs(self.n_jobs))\n",
            "/usr/local/lib/python3.7/dist-packages/sklearn/linear_model/_logistic.py:1526: UserWarning: 'n_jobs' > 1 does not have any effect when 'solver' is set to 'liblinear'. Got 'n_jobs' = 3.\n",
            "  \" = {}.\".format(effective_n_jobs(self.n_jobs))\n",
            "/usr/local/lib/python3.7/dist-packages/sklearn/linear_model/_logistic.py:1526: UserWarning: 'n_jobs' > 1 does not have any effect when 'solver' is set to 'liblinear'. Got 'n_jobs' = 3.\n",
            "  \" = {}.\".format(effective_n_jobs(self.n_jobs))\n",
            "/usr/local/lib/python3.7/dist-packages/sklearn/linear_model/_logistic.py:1526: UserWarning: 'n_jobs' > 1 does not have any effect when 'solver' is set to 'liblinear'. Got 'n_jobs' = 3.\n",
            "  \" = {}.\".format(effective_n_jobs(self.n_jobs))\n",
            "/usr/local/lib/python3.7/dist-packages/sklearn/linear_model/_logistic.py:1526: UserWarning: 'n_jobs' > 1 does not have any effect when 'solver' is set to 'liblinear'. Got 'n_jobs' = 4.\n",
            "  \" = {}.\".format(effective_n_jobs(self.n_jobs))\n",
            "/usr/local/lib/python3.7/dist-packages/sklearn/linear_model/_logistic.py:1526: UserWarning: 'n_jobs' > 1 does not have any effect when 'solver' is set to 'liblinear'. Got 'n_jobs' = 4.\n",
            "  \" = {}.\".format(effective_n_jobs(self.n_jobs))\n",
            "/usr/local/lib/python3.7/dist-packages/sklearn/linear_model/_logistic.py:1526: UserWarning: 'n_jobs' > 1 does not have any effect when 'solver' is set to 'liblinear'. Got 'n_jobs' = 4.\n",
            "  \" = {}.\".format(effective_n_jobs(self.n_jobs))\n",
            "/usr/local/lib/python3.7/dist-packages/sklearn/linear_model/_logistic.py:1526: UserWarning: 'n_jobs' > 1 does not have any effect when 'solver' is set to 'liblinear'. Got 'n_jobs' = 4.\n",
            "  \" = {}.\".format(effective_n_jobs(self.n_jobs))\n",
            "/usr/local/lib/python3.7/dist-packages/sklearn/linear_model/_logistic.py:1526: UserWarning: 'n_jobs' > 1 does not have any effect when 'solver' is set to 'liblinear'. Got 'n_jobs' = 4.\n",
            "  \" = {}.\".format(effective_n_jobs(self.n_jobs))\n",
            "/usr/local/lib/python3.7/dist-packages/sklearn/linear_model/_logistic.py:1526: UserWarning: 'n_jobs' > 1 does not have any effect when 'solver' is set to 'liblinear'. Got 'n_jobs' = 5.\n",
            "  \" = {}.\".format(effective_n_jobs(self.n_jobs))\n",
            "/usr/local/lib/python3.7/dist-packages/sklearn/linear_model/_logistic.py:1526: UserWarning: 'n_jobs' > 1 does not have any effect when 'solver' is set to 'liblinear'. Got 'n_jobs' = 5.\n",
            "  \" = {}.\".format(effective_n_jobs(self.n_jobs))\n"
          ]
        },
        {
          "output_type": "stream",
          "name": "stdout",
          "text": [
            "[CV 2/5] END .C=100, n_jobs=4, solver=liblinear;, score=0.778 total time=   0.0s\n",
            "[CV 3/5] END .C=100, n_jobs=4, solver=liblinear;, score=0.778 total time=   0.0s\n",
            "[CV 4/5] END .C=100, n_jobs=4, solver=liblinear;, score=0.778 total time=   0.0s\n",
            "[CV 5/5] END .C=100, n_jobs=4, solver=liblinear;, score=0.778 total time=   0.0s\n",
            "[CV 1/5] END .C=100, n_jobs=5, solver=liblinear;, score=0.800 total time=   0.0s\n",
            "[CV 2/5] END .C=100, n_jobs=5, solver=liblinear;, score=0.778 total time=   0.0s\n",
            "[CV 3/5] END .C=100, n_jobs=5, solver=liblinear;, score=0.778 total time=   0.0s\n",
            "[CV 4/5] END .C=100, n_jobs=5, solver=liblinear;, score=0.778 total time=   0.0s\n",
            "[CV 5/5] END .C=100, n_jobs=5, solver=liblinear;, score=0.778 total time=   0.0s\n"
          ]
        },
        {
          "output_type": "stream",
          "name": "stderr",
          "text": [
            "/usr/local/lib/python3.7/dist-packages/sklearn/linear_model/_logistic.py:1526: UserWarning: 'n_jobs' > 1 does not have any effect when 'solver' is set to 'liblinear'. Got 'n_jobs' = 5.\n",
            "  \" = {}.\".format(effective_n_jobs(self.n_jobs))\n",
            "/usr/local/lib/python3.7/dist-packages/sklearn/linear_model/_logistic.py:1526: UserWarning: 'n_jobs' > 1 does not have any effect when 'solver' is set to 'liblinear'. Got 'n_jobs' = 5.\n",
            "  \" = {}.\".format(effective_n_jobs(self.n_jobs))\n",
            "/usr/local/lib/python3.7/dist-packages/sklearn/linear_model/_logistic.py:1526: UserWarning: 'n_jobs' > 1 does not have any effect when 'solver' is set to 'liblinear'. Got 'n_jobs' = 5.\n",
            "  \" = {}.\".format(effective_n_jobs(self.n_jobs))\n"
          ]
        },
        {
          "output_type": "execute_result",
          "data": {
            "text/plain": [
              "GridSearchCV(cv=5, estimator=LogisticRegression(),\n",
              "             param_grid={'C': [0.1, 1, 10, 100], 'n_jobs': [1, 2, 3, 4, 5],\n",
              "                         'solver': ['liblinear']},\n",
              "             verbose=3)"
            ]
          },
          "metadata": {},
          "execution_count": 17
        }
      ]
    },
    {
      "cell_type": "markdown",
      "source": [
        "# Scores"
      ],
      "metadata": {
        "id": "a5nmFk2C_YIL"
      }
    },
    {
      "cell_type": "code",
      "source": [
        "from prettytable import PrettyTable\n",
        "ptable = PrettyTable([\"Method\", \"Score\"])\n",
        "ptable.add_rows([\n",
        "    [\"Stratified K Fold\", skFoldScore],\n",
        "    [\"Repeated Random Sub-Sampling\", sSplitScore],\n",
        "    [\"Randomized Search\", randSearchModel.best_score_],\n",
        "    [\"Grid Search\", gridModel.best_score_],\n",
        "])\n",
        "print(ptable)"
      ],
      "metadata": {
        "id": "tOd5erdGNkf3",
        "colab": {
          "base_uri": "https://localhost:8080/"
        },
        "outputId": "2b78d413-8afe-44f1-e006-afb0c384484f"
      },
      "execution_count": 18,
      "outputs": [
        {
          "output_type": "stream",
          "name": "stdout",
          "text": [
            "+------------------------------+--------------------+\n",
            "|            Method            |       Score        |\n",
            "+------------------------------+--------------------+\n",
            "|      Stratified K Fold       | 0.8000158027812896 |\n",
            "| Repeated Random Sub-Sampling | 0.7973333333333332 |\n",
            "|      Randomized Search       | 0.7822222222222222 |\n",
            "|         Grid Search          | 0.7822222222222222 |\n",
            "+------------------------------+--------------------+\n"
          ]
        }
      ]
    },
    {
      "cell_type": "markdown",
      "source": [
        "The Stratified K Fold is the best model for this data."
      ],
      "metadata": {
        "id": "q7TMyXyDAfTa"
      }
    }
  ]
}